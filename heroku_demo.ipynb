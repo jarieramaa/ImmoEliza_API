{
 "cells": [
  {
   "cell_type": "markdown",
   "metadata": {},
   "source": [
    "# Heroku API demo"
   ]
  },
  {
   "cell_type": "code",
   "execution_count": 66,
   "metadata": {},
   "outputs": [],
   "source": [
    "import requests"
   ]
  },
  {
   "cell_type": "markdown",
   "metadata": {},
   "source": [
    "## SETUP"
   ]
  },
  {
   "cell_type": "markdown",
   "metadata": {},
   "source": [
    "\n",
    "#### 1. Checking the available models"
   ]
  },
  {
   "cell_type": "code",
   "execution_count": 70,
   "metadata": {},
   "outputs": [
    {
     "data": {
      "text/plain": [
       "'{\"active\":\"Light\",\"available_options\":[\"Light\",\"Normal\",\"Optimal\"]}\\n'"
      ]
     },
     "execution_count": 70,
     "metadata": {},
     "output_type": "execute_result"
    }
   ],
   "source": [
    "setup_url = \"https://jari-prediction.herokuapp.com/setup\"\n",
    "\n",
    "response = requests.get(setup_url)\n",
    "response.text"
   ]
  },
  {
   "cell_type": "markdown",
   "metadata": {},
   "source": [
    "#### 2. Selecting a model"
   ]
  },
  {
   "cell_type": "code",
   "execution_count": 79,
   "metadata": {},
   "outputs": [
    {
     "name": "stdout",
     "output_type": "stream",
     "text": [
      "{\"status\":\"'Optimal' is now activated\"}\n",
      "\n"
     ]
    }
   ],
   "source": [
    "setup_instructions = {\"activate\" : \"Optimal\"}\n",
    "\n",
    "response = requests.post(setup_url, json= setup_instructions)\n",
    "print(response.text)"
   ]
  },
  {
   "cell_type": "markdown",
   "metadata": {},
   "source": [
    "## PREDICTION"
   ]
  },
  {
   "cell_type": "markdown",
   "metadata": {},
   "source": [
    "### Get instructions\n"
   ]
  },
  {
   "cell_type": "code",
   "execution_count": 80,
   "metadata": {},
   "outputs": [
    {
     "name": "stdout",
     "output_type": "stream",
     "text": [
      "{\"property-subtype\" : [\"APARTMENT_BLOCK\" | \"BUNGALOW\" | \"CASTLE\" | \"CHALET\" | \"COUNTRY_COTTAGE\" | \"DUPLEX\" | \n",
      "\t\t\t\"EXCEPTIONAL_PROPERTY\" | \"FARMHOUSE\" | \"FLAT_STUDIO\" | \"GROUND_FLOOR\" | \"KOT\" | \"LOFT\" | \n",
      "\t\t\t\"MANOR_HOUSE\" | \"MANSION\" | \"MIXED_USE_BUILDING\" | \"OTHER_PROPERTY\" | \"PENTHOUSE\" | \"SERVICE_FLAT\" | \n",
      "\t\t\t\"TOWN_HOUSE\" | \"TRIPLEX\" | \"VILLA\"],\n",
      "\"area\" : int,\n",
      "\"kitchen-type\" : Optional[\"Hyper equipped\" | \"Installed\" | \"Not installed\" | \"Semi equipped\" | \"USA hyper equipped\" | \"USA installed\" | \n",
      "\t\t\t\"USA semi equipped\" | \"USA uninstalled\"],\n",
      "\"energy-class\" : Optional[\"A\" | \"A+\" | \"A++\" | \"B\" | \"C\" | \"C_B\" | \n",
      "\t\t\t\"D\" | \"E\" | \"F\" | \"F_B\" | \"F_D\" | \"G\" | \n",
      "\t\t\t\"G_C\" | \"G_D\" | \"G_F\"],\n",
      "\"land-area\" : Optional(int),\n",
      "\"house-number\" : Optional(int),\n",
      "\"swimming-pool\" : Optional(bool),\n",
      "\"street\" : Optional(str),\n",
      "\"rooms-number\" : Optional(int),\n",
      "\"garden\" : Optional(bool),\n",
      "\"garden-area\" : Optional(int),\n",
      "\"furnished\" : Optional(bool),\n",
      "\"open-fire\" : Optional(bool),\n",
      "\"terrace\" : Optional(bool),\n",
      "\"terrace-area\" : Optional(int),\n",
      "\"facades-number\" : Optional(int),\n",
      "\"building-state\" : Optional[\"NEW\" | \"GOOD\" | \"TO RENOVATE\" | \"JUST RENOVATED\" | \"TO REBUILD\"],\n",
      "\"zip-code\" : int \n",
      "}\n"
     ]
    }
   ],
   "source": [
    "predict_url = \"https://jari-prediction.herokuapp.com/predict\"\n",
    "response = requests.get(predict_url)\n",
    "response_dict = response.json()\n",
    "print(response_dict['data'])"
   ]
  },
  {
   "cell_type": "markdown",
   "metadata": {},
   "source": [
    "#### 1. Light"
   ]
  },
  {
   "cell_type": "code",
   "execution_count": 81,
   "metadata": {},
   "outputs": [
    {
     "name": "stdout",
     "output_type": "stream",
     "text": [
      "{'prediction': 422000}\n"
     ]
    }
   ],
   "source": [
    "light = {\n",
    "    \"property-subtype\" : \"MANSION\",\n",
    "    \"area\" : 170,\n",
    "    \"kitchen-type\" : \"Installed\",\n",
    "    \"energy-class\" : \"A\",\n",
    "    \"land-area\" : 400,\n",
    "    \"swimming-pool\" : False,\n",
    "    \"zip-code\" : 1301\n",
    "    }\n",
    "\n",
    "response = requests.post(predict_url, json= light)\n",
    "print(response.json())"
   ]
  },
  {
   "cell_type": "markdown",
   "metadata": {},
   "source": [
    "#### 2. Normal"
   ]
  },
  {
   "cell_type": "code",
   "execution_count": 83,
   "metadata": {},
   "outputs": [
    {
     "name": "stdout",
     "output_type": "stream",
     "text": [
      "{'error': \"The request contains the following fields that are not valid: ['property-type', 'equipped-kitchen']. \\n\\n\"}\n"
     ]
    }
   ],
   "source": [
    "normal = {\n",
    "    \"area\" : 160,\n",
    "    \"property-type\" : \"HOUSE\",\n",
    "    \"rooms-number\" : 5,\n",
    "    \"zip-code\" : 1400,\n",
    "    \"land-area\" : 330,\n",
    "    \"garden\" : True,\n",
    "    \"garden-area\" : 130,\n",
    "    \"equipped-kitchen\" : True,\n",
    "    \"swimming-pool\" : False,\n",
    "    \"furnished\" : False,\n",
    "    \"open-fire\" : True,\n",
    "    \"terrace\" : True,\n",
    "    \"terrace-area\" : 30,\n",
    "    \"facades-number\" : 2,\n",
    "    \"building-state\" : \"GOOD\" \n",
    "    }\n",
    "\n",
    "response = requests.post(predict_url, json= normal)\n",
    "print(response.json())\n"
   ]
  },
  {
   "cell_type": "markdown",
   "metadata": {},
   "source": [
    "#### 3. Optimal"
   ]
  },
  {
   "cell_type": "code",
   "execution_count": 82,
   "metadata": {},
   "outputs": [
    {
     "name": "stdout",
     "output_type": "stream",
     "text": [
      "{'prediction': 531000}\n"
     ]
    }
   ],
   "source": [
    "optimal = {\n",
    "    \"property-subtype\" : \"TOWN_HOUSE\",\n",
    "\"area\" : 245,\n",
    "\"kitchen-type\" : \"Hyper equipped\",\n",
    "\"energy-class\" : \"A\",\n",
    "\"land-area\" : 210,\n",
    "\"house-number\" : 34,\n",
    "\"swimming-pool\" : False,\n",
    "\"street\" : \"Veldbornstraat\",\n",
    "\"rooms-number\" : 3,\n",
    "\"garden\" : True,\n",
    "\"garden-area\" : 135,\n",
    "\"furnished\" : False,\n",
    "\"open-fire\" : False,\n",
    "\"terrace\" : True,\n",
    "\"terrace-area\" : 5,\n",
    "\"facades-number\" : 2,\n",
    "\"building-state\" : \"GOOD\",\n",
    "\"zip-code\" : 3300 \n",
    "}\n",
    "response = requests.post(predict_url, json= optimal)\n",
    "print(response.json())\n"
   ]
  },
  {
   "cell_type": "markdown",
   "metadata": {},
   "source": []
  }
 ],
 "metadata": {
  "interpreter": {
   "hash": "715c32808efc5d01a7c39b5c57cd796253d81d88d505c31a4ab9d3717c76d628"
  },
  "kernelspec": {
   "display_name": "Python 3.9.7 ('immo_env': venv)",
   "language": "python",
   "name": "python3"
  },
  "language_info": {
   "codemirror_mode": {
    "name": "ipython",
    "version": 3
   },
   "file_extension": ".py",
   "mimetype": "text/x-python",
   "name": "python",
   "nbconvert_exporter": "python",
   "pygments_lexer": "ipython3",
   "version": "3.9.7"
  },
  "orig_nbformat": 4
 },
 "nbformat": 4,
 "nbformat_minor": 2
}
